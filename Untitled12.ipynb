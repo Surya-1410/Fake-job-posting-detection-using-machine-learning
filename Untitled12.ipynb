{
 "cells": [
  {
   "cell_type": "code",
   "execution_count": 1,
   "id": "b2a62d72",
   "metadata": {},
   "outputs": [],
   "source": [
    "import pandas as pd\n",
    "import matplotlib.pyplot as plt\n",
    "import numpy as np\n",
    "import seaborn as sns\n",
    "from sklearn.feature_extraction.text import TfidfVectorizer\n",
    "from sklearn.model_selection import train_test_split\n",
    "from sklearn.feature_extraction.text import CountVectorizer"
   ]
  },
  {
   "cell_type": "code",
   "execution_count": 2,
   "id": "1bcc5b5a",
   "metadata": {},
   "outputs": [],
   "source": [
    "fake_job_postings = pd.read_csv(r\"D:\\Project\\fake_job_postings_cleaned.csv\")"
   ]
  },
  {
   "cell_type": "code",
   "execution_count": 3,
   "id": "6fdb37bf",
   "metadata": {},
   "outputs": [
    {
     "data": {
      "text/html": [
       "<div>\n",
       "<style scoped>\n",
       "    .dataframe tbody tr th:only-of-type {\n",
       "        vertical-align: middle;\n",
       "    }\n",
       "\n",
       "    .dataframe tbody tr th {\n",
       "        vertical-align: top;\n",
       "    }\n",
       "\n",
       "    .dataframe thead th {\n",
       "        text-align: right;\n",
       "    }\n",
       "</style>\n",
       "<table border=\"1\" class=\"dataframe\">\n",
       "  <thead>\n",
       "    <tr style=\"text-align: right;\">\n",
       "      <th></th>\n",
       "      <th>Unnamed: 0</th>\n",
       "      <th>telecommuting</th>\n",
       "      <th>fraudulent</th>\n",
       "      <th>ratio</th>\n",
       "      <th>text</th>\n",
       "      <th>character_count</th>\n",
       "    </tr>\n",
       "  </thead>\n",
       "  <tbody>\n",
       "    <tr>\n",
       "      <th>0</th>\n",
       "      <td>0</td>\n",
       "      <td>0</td>\n",
       "      <td>0</td>\n",
       "      <td>0.03</td>\n",
       "      <td>Marketing Intern US, NY, New York We're Food52...</td>\n",
       "      <td>2705</td>\n",
       "    </tr>\n",
       "    <tr>\n",
       "      <th>1</th>\n",
       "      <td>1</td>\n",
       "      <td>0</td>\n",
       "      <td>0</td>\n",
       "      <td>0.03</td>\n",
       "      <td>Visual Designer US, NY, New York Kettle is an ...</td>\n",
       "      <td>1991</td>\n",
       "    </tr>\n",
       "    <tr>\n",
       "      <th>2</th>\n",
       "      <td>2</td>\n",
       "      <td>0</td>\n",
       "      <td>0</td>\n",
       "      <td>0.03</td>\n",
       "      <td>Payroll Tax Specialist US, NY, New York Namely...</td>\n",
       "      <td>1564</td>\n",
       "    </tr>\n",
       "    <tr>\n",
       "      <th>3</th>\n",
       "      <td>3</td>\n",
       "      <td>0</td>\n",
       "      <td>0</td>\n",
       "      <td>0.03</td>\n",
       "      <td>Marketing Manager US, NY, New York Super Socce...</td>\n",
       "      <td>2871</td>\n",
       "    </tr>\n",
       "    <tr>\n",
       "      <th>4</th>\n",
       "      <td>4</td>\n",
       "      <td>0</td>\n",
       "      <td>0</td>\n",
       "      <td>0.03</td>\n",
       "      <td>English Teacher Abroad US, NY, New York We hel...</td>\n",
       "      <td>669</td>\n",
       "    </tr>\n",
       "  </tbody>\n",
       "</table>\n",
       "</div>"
      ],
      "text/plain": [
       "   Unnamed: 0  telecommuting  fraudulent  ratio  \\\n",
       "0           0              0           0   0.03   \n",
       "1           1              0           0   0.03   \n",
       "2           2              0           0   0.03   \n",
       "3           3              0           0   0.03   \n",
       "4           4              0           0   0.03   \n",
       "\n",
       "                                                text  character_count  \n",
       "0  Marketing Intern US, NY, New York We're Food52...             2705  \n",
       "1  Visual Designer US, NY, New York Kettle is an ...             1991  \n",
       "2  Payroll Tax Specialist US, NY, New York Namely...             1564  \n",
       "3  Marketing Manager US, NY, New York Super Socce...             2871  \n",
       "4  English Teacher Abroad US, NY, New York We hel...              669  "
      ]
     },
     "execution_count": 3,
     "metadata": {},
     "output_type": "execute_result"
    }
   ],
   "source": [
    "fake_job_postings.head()"
   ]
  },
  {
   "cell_type": "code",
   "execution_count": 4,
   "id": "20bfa6ae",
   "metadata": {},
   "outputs": [],
   "source": [
    "X = fake_job_postings[['telecommuting', 'ratio', 'text', 'character_count']]\n",
    "y = fake_job_postings['fraudulent']"
   ]
  },
  {
   "cell_type": "code",
   "execution_count": 5,
   "id": "c319c10d",
   "metadata": {},
   "outputs": [],
   "source": [
    "X_train, X_test, y_train, y_test = train_test_split(X, y, test_size=0.33, random_state=53)"
   ]
  },
  {
   "cell_type": "code",
   "execution_count": 6,
   "id": "8d2d54f4",
   "metadata": {},
   "outputs": [
    {
     "data": {
      "text/html": [
       "<div>\n",
       "<style scoped>\n",
       "    .dataframe tbody tr th:only-of-type {\n",
       "        vertical-align: middle;\n",
       "    }\n",
       "\n",
       "    .dataframe tbody tr th {\n",
       "        vertical-align: top;\n",
       "    }\n",
       "\n",
       "    .dataframe thead th {\n",
       "        text-align: right;\n",
       "    }\n",
       "</style>\n",
       "<table border=\"1\" class=\"dataframe\">\n",
       "  <thead>\n",
       "    <tr style=\"text-align: right;\">\n",
       "      <th></th>\n",
       "      <th>telecommuting</th>\n",
       "      <th>ratio</th>\n",
       "      <th>text</th>\n",
       "      <th>character_count</th>\n",
       "    </tr>\n",
       "  </thead>\n",
       "  <tbody>\n",
       "    <tr>\n",
       "      <th>10357</th>\n",
       "      <td>0</td>\n",
       "      <td>0.00</td>\n",
       "      <td>Title Insurance: Title Coordinator -Long Islan...</td>\n",
       "      <td>919</td>\n",
       "    </tr>\n",
       "    <tr>\n",
       "      <th>1905</th>\n",
       "      <td>1</td>\n",
       "      <td>0.02</td>\n",
       "      <td>Freelance Writers US, IL, Chicago   Jumpstart ...</td>\n",
       "      <td>3000</td>\n",
       "    </tr>\n",
       "    <tr>\n",
       "      <th>7707</th>\n",
       "      <td>0</td>\n",
       "      <td>0.00</td>\n",
       "      <td>Driver - Medium Duty (Hayward) US, CA, Hayward...</td>\n",
       "      <td>5683</td>\n",
       "    </tr>\n",
       "    <tr>\n",
       "      <th>940</th>\n",
       "      <td>0</td>\n",
       "      <td>0.02</td>\n",
       "      <td>DR, Linux, JBoss, Puppet or Chef -DevOps Engin...</td>\n",
       "      <td>962</td>\n",
       "    </tr>\n",
       "    <tr>\n",
       "      <th>8467</th>\n",
       "      <td>0</td>\n",
       "      <td>0.00</td>\n",
       "      <td>Graduates: English Teacher Abroad  US, OK, Sti...</td>\n",
       "      <td>654</td>\n",
       "    </tr>\n",
       "    <tr>\n",
       "      <th>...</th>\n",
       "      <td>...</td>\n",
       "      <td>...</td>\n",
       "      <td>...</td>\n",
       "      <td>...</td>\n",
       "    </tr>\n",
       "    <tr>\n",
       "      <th>3261</th>\n",
       "      <td>0</td>\n",
       "      <td>0.00</td>\n",
       "      <td>Makeup Artist US, MN, Minneapolis   Expanding ...</td>\n",
       "      <td>2602</td>\n",
       "    </tr>\n",
       "    <tr>\n",
       "      <th>6565</th>\n",
       "      <td>0</td>\n",
       "      <td>0.00</td>\n",
       "      <td>Director, Supply Chain - Strategy US, OH, Clev...</td>\n",
       "      <td>2477</td>\n",
       "    </tr>\n",
       "    <tr>\n",
       "      <th>2933</th>\n",
       "      <td>0</td>\n",
       "      <td>0.00</td>\n",
       "      <td>Software Engineer US, CA, Menlo Park Transifex...</td>\n",
       "      <td>4610</td>\n",
       "    </tr>\n",
       "    <tr>\n",
       "      <th>8989</th>\n",
       "      <td>0</td>\n",
       "      <td>0.00</td>\n",
       "      <td>Experienced Managing Real Estate Broker US, IL...</td>\n",
       "      <td>3980</td>\n",
       "    </tr>\n",
       "    <tr>\n",
       "      <th>7705</th>\n",
       "      <td>0</td>\n",
       "      <td>0.00</td>\n",
       "      <td>Shipper (Hayward) US, CA, Hayward Our HistoryF...</td>\n",
       "      <td>4704</td>\n",
       "    </tr>\n",
       "  </tbody>\n",
       "</table>\n",
       "<p>7097 rows × 4 columns</p>\n",
       "</div>"
      ],
      "text/plain": [
       "       telecommuting  ratio  \\\n",
       "10357              0   0.00   \n",
       "1905               1   0.02   \n",
       "7707               0   0.00   \n",
       "940                0   0.02   \n",
       "8467               0   0.00   \n",
       "...              ...    ...   \n",
       "3261               0   0.00   \n",
       "6565               0   0.00   \n",
       "2933               0   0.00   \n",
       "8989               0   0.00   \n",
       "7705               0   0.00   \n",
       "\n",
       "                                                    text  character_count  \n",
       "10357  Title Insurance: Title Coordinator -Long Islan...              919  \n",
       "1905   Freelance Writers US, IL, Chicago   Jumpstart ...             3000  \n",
       "7707   Driver - Medium Duty (Hayward) US, CA, Hayward...             5683  \n",
       "940    DR, Linux, JBoss, Puppet or Chef -DevOps Engin...              962  \n",
       "8467   Graduates: English Teacher Abroad  US, OK, Sti...              654  \n",
       "...                                                  ...              ...  \n",
       "3261   Makeup Artist US, MN, Minneapolis   Expanding ...             2602  \n",
       "6565   Director, Supply Chain - Strategy US, OH, Clev...             2477  \n",
       "2933   Software Engineer US, CA, Menlo Park Transifex...             4610  \n",
       "8989   Experienced Managing Real Estate Broker US, IL...             3980  \n",
       "7705   Shipper (Hayward) US, CA, Hayward Our HistoryF...             4704  \n",
       "\n",
       "[7097 rows x 4 columns]"
      ]
     },
     "execution_count": 6,
     "metadata": {},
     "output_type": "execute_result"
    }
   ],
   "source": [
    "X_train"
   ]
  },
  {
   "cell_type": "code",
   "execution_count": null,
   "id": "9029663d",
   "metadata": {},
   "outputs": [],
   "source": []
  },
  {
   "cell_type": "code",
   "execution_count": 7,
   "id": "fd9df479",
   "metadata": {},
   "outputs": [],
   "source": [
    "X_train_num = X_train[['telecommuting', 'ratio', 'character_count']]\n",
    "X_test_num = X_test[['telecommuting', 'ratio', 'character_count']]"
   ]
  },
  {
   "cell_type": "code",
   "execution_count": 8,
   "id": "b8305222",
   "metadata": {},
   "outputs": [],
   "source": [
    "count_vectorizer = CountVectorizer(stop_words='english')\n",
    "count_train = count_vectorizer.fit_transform(X_train.text.values)\n",
    "count_test = count_vectorizer.transform(X_test.text.values)"
   ]
  },
  {
   "cell_type": "code",
   "execution_count": 9,
   "id": "62d8b7b3",
   "metadata": {},
   "outputs": [
    {
     "name": "stderr",
     "output_type": "stream",
     "text": [
      "C:\\Users\\Surya\\anaconda3\\lib\\site-packages\\sklearn\\utils\\deprecation.py:87: FutureWarning: Function get_feature_names is deprecated; get_feature_names is deprecated in 1.0 and will be removed in 1.2. Please use get_feature_names_out instead.\n",
      "  warnings.warn(msg, category=FutureWarning)\n"
     ]
    }
   ],
   "source": [
    "count_df = pd.DataFrame(count_train.A, columns=count_vectorizer.get_feature_names())"
   ]
  },
  {
   "cell_type": "code",
   "execution_count": null,
   "id": "80d01d8e",
   "metadata": {},
   "outputs": [],
   "source": []
  },
  {
   "cell_type": "code",
   "execution_count": 10,
   "id": "7e8c7c99",
   "metadata": {},
   "outputs": [
    {
     "data": {
      "text/plain": [
       "0.971395881006865"
      ]
     },
     "execution_count": 10,
     "metadata": {},
     "output_type": "execute_result"
    }
   ],
   "source": [
    "from sklearn.naive_bayes import MultinomialNB\n",
    "from sklearn import metrics\n",
    "from sklearn.model_selection import train_test_split\n",
    "\n",
    "nb_classifier = MultinomialNB()\n",
    "nb_classifier.fit(count_train, y_train)\n",
    "pred = nb_classifier.predict(count_test)\n",
    "metrics.accuracy_score(y_test, pred)\n"
   ]
  },
  {
   "cell_type": "code",
   "execution_count": 11,
   "id": "181be8f6",
   "metadata": {},
   "outputs": [
    {
     "data": {
      "text/plain": [
       "0.7435897435897436"
      ]
     },
     "execution_count": 11,
     "metadata": {},
     "output_type": "execute_result"
    }
   ],
   "source": [
    "metrics.f1_score(y_test, pred)"
   ]
  },
  {
   "cell_type": "code",
   "execution_count": 12,
   "id": "134afcc8",
   "metadata": {},
   "outputs": [
    {
     "data": {
      "text/plain": [
       "0.9739702517162472"
      ]
     },
     "execution_count": 12,
     "metadata": {},
     "output_type": "execute_result"
    }
   ],
   "source": [
    "from sklearn.linear_model import SGDClassifier\n",
    "\n",
    "clf_log = SGDClassifier(loss='log').fit(count_train, y_train)\n",
    "pred_log = clf_log.predict(count_test)\n",
    "metrics.accuracy_score(y_test, pred_log)"
   ]
  },
  {
   "cell_type": "code",
   "execution_count": 13,
   "id": "22f82a79",
   "metadata": {},
   "outputs": [
    {
     "data": {
      "text/plain": [
       "0.9339244851258581"
      ]
     },
     "execution_count": 13,
     "metadata": {},
     "output_type": "execute_result"
    }
   ],
   "source": [
    "clf_num = SGDClassifier(loss='log').fit(X_train_num, y_train)\n",
    "pred_num = clf_num.predict(X_test_num)\n",
    "metrics.accuracy_score(y_test, pred_num)"
   ]
  },
  {
   "cell_type": "code",
   "execution_count": 14,
   "id": "4c3c8e8e",
   "metadata": {},
   "outputs": [],
   "source": [
    "prediction_array = []\n",
    "\n",
    "for i, j in zip(pred_num, pred_log):\n",
    "    if i == 0 and j == 0:\n",
    "        prediction_array.append(0)\n",
    "    else:\n",
    "        prediction_array.append(1)"
   ]
  },
  {
   "cell_type": "code",
   "execution_count": 15,
   "id": "59221b07",
   "metadata": {},
   "outputs": [
    {
     "data": {
      "text/plain": [
       "0.9739702517162472"
      ]
     },
     "execution_count": 15,
     "metadata": {},
     "output_type": "execute_result"
    }
   ],
   "source": [
    "metrics.accuracy_score(y_test, prediction_array)"
   ]
  },
  {
   "cell_type": "code",
   "execution_count": 16,
   "id": "8e0033d4",
   "metadata": {},
   "outputs": [],
   "source": [
    "from sklearn.metrics import confusion_matrix\n",
    "\n",
    "cf_matrix = confusion_matrix(y_test, prediction_array)"
   ]
  },
  {
   "cell_type": "code",
   "execution_count": 17,
   "id": "28190e2c",
   "metadata": {},
   "outputs": [
    {
     "data": {
      "image/png": "[encoded data removed]",
      "text/plain": [
       "<Figure size 432x288 with 2 Axes>"
      ]
     },
     "metadata": {
      "needs_background": "light"
     },
     "output_type": "display_data"
    }
   ],
   "source": [
    "group_names = [\"True Neg\",\"False Pos\", \"False Neg\", \"True Pos\"]\n",
    "group_counts = [\"{0:0.0f}\".format(value) for value in\n",
    "                cf_matrix.flatten()]\n",
    "group_percentages = [\"{0:.2%}\".format(value) for value in\n",
    "                      cf_matrix.flatten()/np.sum(cf_matrix)]\n",
    "labels = [f'{v1}\\n{v2}\\n{v3}' for v1, v2, v3 in\n",
    "          zip(group_names,group_counts,group_percentages)]\n",
    "labels = np.asarray(labels).reshape(2,2)\n",
    "sns.heatmap(cf_matrix, annot=labels, fmt='', cmap='Blues');"
   ]
  },
  {
   "cell_type": "code",
   "execution_count": 18,
   "id": "93a37130",
   "metadata": {},
   "outputs": [
    {
     "data": {
      "text/plain": [
       "(3265, 231)"
      ]
     },
     "execution_count": 18,
     "metadata": {},
     "output_type": "execute_result"
    }
   ],
   "source": [
    "len(y_test[y_test == 0]), len(y_test[y_test == 1])"
   ]
  },
  {
   "cell_type": "code",
   "execution_count": null,
   "id": "ef85ea52",
   "metadata": {},
   "outputs": [],
   "source": [
    "\n"
   ]
  },
  {
   "cell_type": "code",
   "execution_count": null,
   "id": "681c15ce",
   "metadata": {},
   "outputs": [],
   "source": []
  },
  {
   "cell_type": "code",
   "execution_count": 19,
   "id": "6339581d",
   "metadata": {},
   "outputs": [],
   "source": [
    "arr1 = np.array(['1991'], dtype='str')\n",
    "arr2 = arr1.astype('float')\n",
    "#a=arr2.reshape(1, -1)\n",
    "a=arr2.reshape(1, -1)"
   ]
  },
  {
   "cell_type": "code",
   "execution_count": 20,
   "id": "01cc5bad",
   "metadata": {},
   "outputs": [],
   "source": [
    "data2 = {'text':['''Marketing Intern US, NY, New York We're Food52, and we've created a groundbreaking and award-winning cooking site. We support, connect, and celebrate home cooks, and give them everything they need in one place.We have a top editorial, business, and engineering team. We're focused on using technology to find new and better ways to connect people around their specific food interests, and to offer them superb, highly curated information about food and cooking. We attract the most talented home cooks and contributors in the country; we also publish well-known professionals like Mario Batali, Gwyneth Paltrow, and Danny Meyer. And we have partnerships with Whole Foods Market and Random House.Food52 has been named the best food website by the James Beard Foundation and IACP, and has been featured in the New York Times, NPR, Pando Daily, TechCrunch, and on the Today Show.We're located in Chelsea, in New York City. Food52, a fast-growing, James Beard Award-winning online food community and crowd-sourced and curated recipe hub, is currently interviewing full- and part-time unpaid interns to work in a small team of editors, executives, and developers in its New York City headquarters.Reproducing and/or repackaging existing Food52 content for a number of partner sites, such as Huffington Post, Yahoo, Buzzfeed, and more in their various content management systemsResearching blogs and websites for the Provisions by Food52 Affiliate ProgramAssisting in day-to-day affiliate program support, such as screening affiliates and assisting in any affiliate inquiriesSupporting with PR &amp; Events when neededHelping with office administrative work, such as filing, mailing, and preparing for meetingsWorking with developers to document bugs and suggest improvements to the siteSupporting the marketing and executive staff Experience with content management systems a major plus (any blogging counts!)Familiar with the Food52 editorial voice and aestheticLoves food, appreciates the importance of home cooking and cooking with the seasonsMeticulous editor, perfectionist, obsessive attention to detail, maddened by typos and broken links, delighted by finding and fixing themCheerful under pressureExcellent communication skillsA+ multi-tasker and juggler of responsibilities big and smallInterested in and engaged with social media like Twitter, Facebook, and PinterestLoves problem-solving and collaborating to drive Food52 forwardThinks big picture but pitches in on the nitty gritty of running a small company (dishes, shopping, administrative support)Comfortable with the realities of working for a startup: being on call on evenings and weekends, and working long hours   Internship     Marketing''']}"
   ]
  },
  {
   "cell_type": "code",
   "execution_count": 21,
   "id": "93aec452",
   "metadata": {},
   "outputs": [],
   "source": [
    "df3 = pd.DataFrame(data2)"
   ]
  },
  {
   "cell_type": "code",
   "execution_count": 22,
   "id": "05d935b8",
   "metadata": {},
   "outputs": [],
   "source": [
    "data = count_vectorizer.transform(df3['text'])"
   ]
  },
  {
   "cell_type": "code",
   "execution_count": 23,
   "id": "5bb2a7ae",
   "metadata": {},
   "outputs": [
    {
     "data": {
      "text/plain": [
       "<1x50652 sparse matrix of type '<class 'numpy.int64'>'\n",
       "\twith 196 stored elements in Compressed Sparse Row format>"
      ]
     },
     "execution_count": 23,
     "metadata": {},
     "output_type": "execute_result"
    }
   ],
   "source": [
    "data"
   ]
  },
  {
   "cell_type": "code",
   "execution_count": 24,
   "id": "aabaa4e9",
   "metadata": {},
   "outputs": [],
   "source": [
    "pred_log = clf_log.predict(data)"
   ]
  },
  {
   "cell_type": "code",
   "execution_count": 25,
   "id": "7c57d5b4",
   "metadata": {},
   "outputs": [
    {
     "data": {
      "text/plain": [
       "array([0], dtype=int64)"
      ]
     },
     "execution_count": 25,
     "metadata": {},
     "output_type": "execute_result"
    }
   ],
   "source": [
    "pred_log"
   ]
  },
  {
   "cell_type": "code",
   "execution_count": null,
   "id": "b4328a7d",
   "metadata": {},
   "outputs": [],
   "source": []
  },
  {
   "cell_type": "code",
   "execution_count": 26,
   "id": "5dd3a4d1",
   "metadata": {},
   "outputs": [
    {
     "data": {
      "text/plain": [
       "array([0], dtype=int64)"
      ]
     },
     "execution_count": 26,
     "metadata": {},
     "output_type": "execute_result"
    }
   ],
   "source": [
    "nb_classifier.predict(data)"
   ]
  },
  {
   "cell_type": "code",
   "execution_count": 27,
   "id": "c94f152c",
   "metadata": {},
   "outputs": [
    {
     "data": {
      "text/plain": [
       "array([\"Marketing Communications/Content Manager (remote/telecommute) US, ,  InVision\\xa0is a venture-backed startup working to create the world's best design communication and collaboration platform.We're passionate about finding ways to improve how companies think about their design process. That's why designers at so many of the\\xa0worlds most beloved startups, agencies and corporations\\xa0use InVision every day. InVision\\xa0is the world’s leading design collaboration platform.We enable companies of all sizes to discover the power of design-driven product development. \\xa0That’s why designers, product managers, marketers and other stakeholders at so many of the\\xa0world's most loved designers, agencies, &amp; corporations\\xa0use InVision every day,\\xa0including Zappos, Evernote, AirBnB, and Yammer.Built to foster collaboration and iteration, InVision helps our clients design, review and user-test a product before writing a single line of code, with tools for design prototyping, feedback, task management and version control.We’re well-funded and venture-backed by prominent investors including FirstMark Capital and Tiger Global Management.We're looking for a Marketing Communications Manager to manage all of our online communications efforts and establish InVision as a thought leader in the product design space. About YouTrack record of flawlessly executing on B2B communications, thought leadership campaigns, and partner PR programsExcellent oral and written communications skills, with a knack for turning internal content into eye-catching pitches and contributed articles.An incredible writer, with a deep understanding of JTBD conceptOutstanding interpersonal, project management and prioritization skills.Unfazed by constant change.An eye for simplifying complex topics and technologies to their essenceBroad skillset that stretches across growth channels/drivers -- blog, social media, press, events.Deep understanding of marketing automation tools, such as Hubspot, Marketo, Bufferapp, etc.A playbook of social media initiatives with quantifiable success from experience in current or prior roles.Bias towards immediate action and results\\xa0Consummate multi-taskerPrior experience in a B2B SaaS vertical (3-5 years)Marketer with product design background a HUGE plusResponsibilities\\xa0Create, manage, and execute on cross-channel content\\xa0strategy that establishes InVision as thought leader in the product\\xa0design space.Own blog and social media, including scheduling and finding relevant inspirational product design content and creating a social media program other companies aspire to replicate.Explore ways to expand marketing efforts into new platforms and channels.\\xa0Write compelling copy and work with\\xa0renown\\xa0designers and guest writers to educate and engage potential and current users.\\xa0Create blog posts, case studies, educational materials, and\\xa0onboarding collateral to create happy users that love and understand InVision.Work to ensure consistent brand voice across all messaging.Work with PR agencies, managing the relationship, providing guidance on stories and announcementsDrive press coverage around our products and reports in a diverse media landscape including business and consumer press Highly competitive salaryStock optionsPremium health coverage\\xa0\\xa0Macbook AirMembership at health club of your choiceUnlimited books from AmazonUnlimited Starbucks cardHalf-day Fridays! Mid-Senior level Bachelor's Degree Internet Marketing\",\n",
       "       'Fashion Product Receiver US, CA, San Francisco The RealReal is changing the way people buy and sell luxury items. The leader in luxury resale, the company is a full service retailer offering customers authenticated, pre-owned, designer brands including Chanel, Hermes, Louis Vuitton , Gucci and Cartier, all at up to 90% off original retail. The RealReal takes possession of all items prior to sale in order for its merchandising team, authentication specialists and skilled gemologists to evaluate each item. The company also offers buyers merchandise returns, with an in-house customer service team available to answer specific product questions. We are looking for Product Receivers to join our luxury fashion receiving team in our high volume authentication department.\\xa0 The RealReal is the country’s largest online luxury consignment marketplace.\\xa0 Founded in 2011, we are one of the few online resellers to authenticate and photograph every piece of merchandise on our site.\\xa0 In addition to winning POSH and Fashpreneur Awards, The RealReal has been featured on The Today Show, USA Today, Fortune, Glamour, and Elle.Responsibilities: In this role you will\\xa0 handle all product intake into our internal inventory system, check product against enclosed packing list, inspect goods for saleability, prepare items onto garment racks for our SKU team, and identify high value and marquee merchandise to be separated and ‘fast-tracked’ through the system.Qualifications: You must have an extremely accurate attention to detail, experience in a fast-paced environment, and a strong interest in and knowledge of fashion. This position requires the ability to move and lift boxes up to 25 pounds on a regular basis.\\xa0 Experience working with luxury fashion brands a plus.\\xa0ABOUT THE REALREAL\\xa0\\xa0\\xa0\\xa0 The RealReal is the leading full service online luxury resale marketplace in the United States.\\xa0 Only The RealReal offers customers access to authenticated designer fashion and fine art in curated sales. Our designer brands include such leading names as Chanel, Hermes, Louis Vuitton, Gucci and Prada, all at up to 90% off original retail. Our fine art offerings include paintings, drawings, prints, photographs and sculpture from the Modern, Post-War and Contemporary eras.\\xa0 The RealReal takes possession of all items prior to sale in order for its merchandising and curatorial teams, authentication specialists and skilled gemologists to evaluate each item.We have an award-winning leadership team with a proven track record of success and we are experiencing hyper-growth. This is a unique opportunity to be part of a VC funded start-up that is changing the marketplace.\\xa0 Join our team and make some history! Find us: #URL_21260ee3ae8f5b50e570c025c5c70479c7e269db690671c2b754afbbc289094b# Follow us: #URL_07ff87d4f3e227140fbaff9ce59c904e9884bba1af27c4220bf2a3c52758cf3d# Like us: #URL_d6efe0bfcf0ce5500588f67e335a7f88f4607ccbe3373bfef826329aa2822886# Follow us: #URL_572917c7522fa686a8ee1e7fb2ff015f21284241410ac0978ede1254de831af0#            ',\n",
       "       'Luxury Returns Specialist US, CA, San Francisco The RealReal is changing the way people buy and sell luxury items. The leader in luxury resale, the company is a full service retailer offering customers authenticated, pre-owned, designer brands including Chanel, Hermes, Louis Vuitton , Gucci and Cartier, all at up to 90% off original retail. The RealReal takes possession of all items prior to sale in order for its merchandising team, authentication specialists and skilled gemologists to evaluate each item. The company also offers buyers merchandise returns, with an in-house customer service team available to answer specific product questions. If you have experience processing returns, love fashion, and want to work with clothes all day then we have the perfect job for you!  We are looking for a Returns Specialist who is detailed-oriented and also understand business goals.  In this role, you will process adjustments and credits, perform research and inventory updates.  Qualified candidates will have a strong work ethic and the following experience; computer skills/data entry, customer service, credit card processing, extremely detailed and accurate. This would be a perfect role for someone who has returns processing experience who is looking to begin a career in the fashion industry.Compensation: starting at $13.00/hour ABOUT THE REALREAL\\xa0\\xa0\\xa0The RealReal is the leading full service online luxury resale marketplace.\\xa0 Only The RealReal offers customers access to authenticated designer fashion and fine art in curated sales. Our designer brands include such leading names as Chanel, Hermes, Louis Vuitton, Gucci and Prada, all at up to 90% off original retail. Our fine art offerings include paintings, drawings, prints, photographs and sculpture from the Modern, Post-War and Contemporary eras.\\xa0 The RealReal takes possession of all items prior to sale in order for its merchandising and curatorial teams, authentication specialists and skilled gemologists to evaluate each item.We have an award-winning leadership team with a proven track record of success and we are experiencing hyper-growth. This is a unique opportunity to be part of a VC funded start-up that is changing the marketplace. The RealReal offers competitive salary, stock options, 401k with company match and a full menu of benefits.\\xa0 Join our team and make some history! Find us: #URL_21260ee3ae8f5b50e570c025c5c70479c7e269db690671c2b754afbbc289094b# Follow us: #URL_07ff87d4f3e227140fbaff9ce59c904e9884bba1af27c4220bf2a3c52758cf3d# Like us: #URL_d6efe0bfcf0ce5500588f67e335a7f88f4607ccbe3373bfef826329aa2822886# Follow us: #URL_572917c7522fa686a8ee1e7fb2ff015f21284241410ac0978ede1254de831af0#\\xa0            ',\n",
       "       ...,\n",
       "       \"Controller (Equity, Startup w/ substantial growth) US, MA, Andover   ***** Please only apply if you have experience within the Consumer Packaged Goods (CPG) industry *****This position pays $135K-$145K depending on experience and potential.Our client\\xa0is experiencing substantial global growth and their plan is to sell within the next 3-4 years. This position will be accountable for the accounting operations of the company; as well as, financial planning, record-keeping and reporting. Their role will be to mitigate risk, enhance the accuracy of the company's reported financial results, and ensure that reported results comply with generally accepted accounting principles and/or international financial reporting standards.The ideal candidate will assist with building operational excellence into the company.\\xa0This\\xa0means installing just the right amount of process, reporting and structure. Not so much that it slows them down, but enough so that they smoothly run and can grow the engine. ResponsibilitiesMaintain a documented system of accounting policies and proceduresPartner with executive team on analyses of financialsProactively identify potential opportunities of\\xa0improvement within our financial operationsCoordinate and lead a monthly financial reporting and forecasting process for the team. Which would include a budget variance analysis, outlook scenario analysis and the reporting of enrollment and revenueSupervise the annual budget process, including analyzing performance goals and metrics, and preparation of presentations \\xa0\\xa0\\xa0\\xa0 for the Board of DirectorsPrepares ad hoc analyses for CEO and COOManage AP/AR, payroll and chart of accountsCoordinate the provision of information to external auditors for the annual audit The startup road is guaranteed to be long and hard. This company is looking for someone who loves the challenge, looks and sounds like he can weather the storm, will always see the bright side despite adversity, and never gives up.\\xa0A\\xa0startup controller is hands-on and integrated into the day-to-day of the business. If this sounds like you ... we would love to hear from you! keywords: CPA, CA, CFO, Controller, CPG, consumer packaged goods, product, accounting, tax, fundraising, equity deals, investor, finance, funding,\\xa0\\xa0 Director Bachelor's Degree Consumer Goods Finance\",\n",
       "       'iOS Software Architect US, WA, Seattle Work with Team OoklaWe\\'re good at what we do. Since we started back in 2006, we\\'ve been on a path of continuous success. You\\'ve heard of and probably used our most popular product: #URL_450e422841a82380e06806f99787403171aea30a1cfd4da8652d1d7f83e9bf18#. Ookla is the market leader and the global standard for measuring and testing Internet speed and connection quality. Over 5 million tests will be taken today, adding to the over four billion done to date. Talk about inpact, we have reached out to 300 Million unique individuals in the past year alone!A small, talented teamIt surprises people to discover that a company with worldwide presence like Ookla is run by about twenty people. That\\'s possible by bringing the right individuals together with a shared mission: making the internet better and faster for everyone. The people at Ookla are not only multidisciplinary, but adept collaborators--they enjoy working with one another. And a smaller team means everyone gets a bigger share of the rewards.Work from anywhere flexibilityOokla is 100% virtual. No central headquarters. No vying for the corner office, because your office is anywhere you want it to be: your home, a coffee shop, a cabin in the woods. It\\'s work with a life--the life you choose. And it\\'s definitely not lonely. Ookla\\'s online community, using voice, chat, and groupware technology, facilitates vibrant, ongoing collaboration among like-minded coworkers. And you\\'re never stuck in traffic.Want to work at Ookla?To determine if you’d be a good fit at Ookla, ask yourself these questions:Am I self-motivated and capable of working with little or no supervision?Am I knowledgeable, talented and imaginative enough to take on a project from beginning to end?Am I always driven to improve quality and effectiveness?Am I eager and excited to work with like-minded individuals?If you answered “yes” to all those questions, Ookla may say “yes” to you.In return...Top-of-market salaryBonus &amp; profit-sharing opportunities, creating overflow that is gererously shared out.Work from anywhere flexibility -- we\\'re 100% virtual100% paid medical &amp; dental for you and your dependentsNo set limit on paid-time offTop-of-the-line hardware (think Retina MacBook Pro)Beverages and more to outfit your home officeWe hire responsible individuals that get the vision and enable them to self manageWe know exactly where we are going and how to get there, join us. Our iOS Software Architect will own iPhone and iPad development. This is not your typical senior engineering position: you’ll serve as both the architect and principal engineer of our iOS products. You should be capable of developing iOS applications end-to-end with little or no assistance. But in many cases, you’ll have help, too; you’ll collaborate with other Ookla engineers on using our worldwide testing and data infrastructure. And when needed, you’ll supervise external resources contracted to help out with our iOS applications. You will own the technical solutions and implementation required to ensure that our network measurement and troubleshooting tools are accurate, meaningful, and conveyed with a cutting edge user experience. The ideal candidate should be self-motivated and capable of working independently but just as comfortable collaborating with others. 3+ years of iOS development experience with Objective-C, Cocoa Touch, and OpenGLExperience building iOS applications from start to finishDeep understanding of Quartz 2D and GCD, ARC and CFNetworkExpertise with distributed version control systems such as Git or MercurialExperience with Agile practices such as Test Driven Development and Continuous IntegrationAndroid development experience a plusPeople and/or vendor management experience a plusAre you a fit for Ookla?Are you self-motivated and capable of working with little or no supervision?Are you knowledgeable, talented, and imaginative enough to take on a project from beginning to end?Are you always driven to improve quality and effectiveness?Are you eager and excited to work with like-minded individuals?If you answered \"yes\" to all those questions, you might be a good fit for Ookla. Top-of-market salaryWork from anywhere flexibility - we\\'re 100% virtual100% paid medical &amp; dental for you and your dependentsNo set limit on paid-time offBonus &amp; profit-sharing opportunitiesTop-of-the-line hardware (think Retina MacBook Pro)Beverages and more to outfit your home office        ',\n",
       "       \"Promotions / Marketing Assistant US, TX, Carrollton LEI Home Enhancements, is an Ohio based company that has been installing windows, siding, doors and decks in homes throughout the Tri-state, Dayton, Indianapolis and Columbus for over seven years.With pride in our work, honesty and integrity in our professionalism and a companywide dedication to customer satisfaction, we offer a wide range of remodeling services to homeowners.Whether your project is large or small, we understand the trust and confidence each customer places in our skilled hands.\\xa0 That's why we use only superior quality products and exceptional craftsmanship to achieve long-lasting beauty, performance and value for your home.\\xa0 We take every measure to carefully ensure our craftsman are properly trained in all phases of home improvement.\\xa0 Likewise, our sales staff and customer service representatives draw upon their years of experience for quality installations.From day one, we will welcome any questions and concerns you may have during the renovation process.\\xa0 It is our goal to provide you with beautiful and practical home improvements that will stand the test of time, along with the peace of mind that you have made an excellent selection for your home. Seeking a candidate to work full time in a promotions/marketing capacity for growing event marketing firm. Seeking outgoing, high energy candidates who will have face to face interaction directly with the consumers . Must be able to work well with a team and maintain positive attitude. We are looking for someone who wants to have FUN. Position offers base\\xa0 rate + incentiveExcellent opportunity for recent college graduates or others seeking to get their start in the marketing field Ability to work up to 30-40 hours/week Strong verbal customer service skills Ability to be influential and overcome objections Base plus commissionsPaid TrainingBenefitsVacation TimeQuick growth within the company       Marketing\"],\n",
       "      dtype=object)"
      ]
     },
     "execution_count": 27,
     "metadata": {},
     "output_type": "execute_result"
    }
   ],
   "source": [
    "X_test.text.values"
   ]
  },
  {
   "cell_type": "code",
   "execution_count": 28,
   "id": "e4e650d6",
   "metadata": {},
   "outputs": [],
   "source": [
    "import pickle\n",
    "pickle.dump(clf_num, open('app.pkl', 'wb'))"
   ]
  },
  {
   "cell_type": "code",
   "execution_count": 29,
   "id": "e2d081d0",
   "metadata": {},
   "outputs": [],
   "source": [
    "pickle.dump(count_vectorizer,open('count.pkl','wb'))"
   ]
  },
  {
   "cell_type": "code",
   "execution_count": 30,
   "id": "e718cebf",
   "metadata": {},
   "outputs": [],
   "source": [
    "file = 'count_file.sav'\n",
    "pickle.dump(count_vectorizer,open(file,'wb'))"
   ]
  },
  {
   "cell_type": "code",
   "execution_count": 31,
   "id": "c0f07ae0",
   "metadata": {},
   "outputs": [],
   "source": [
    "file2 = 'clf_file.sav'\n",
    "pickle.dump(clf_log,open(file2,'wb'))"
   ]
  },
  {
   "cell_type": "code",
   "execution_count": null,
   "id": "42e01a6a",
   "metadata": {},
   "outputs": [],
   "source": []
  }
 ],
 "metadata": {
  "kernelspec": {
   "display_name": "Python 3 (ipykernel)",
   "language": "python",
   "name": "python3"
  },
  "language_info": {
   "codemirror_mode": {
    "name": "ipython",
    "version": 3
   },
   "file_extension": ".py",
   "mimetype": "text/x-python",
   "name": "python",
   "nbconvert_exporter": "python",
   "pygments_lexer": "ipython3",
   "version": "3.9.12"
  }
 },
 "nbformat": 4,
 "nbformat_minor": 5
}
